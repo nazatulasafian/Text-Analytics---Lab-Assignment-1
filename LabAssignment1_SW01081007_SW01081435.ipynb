{
 "cells": [
  {
   "cell_type": "markdown",
   "id": "9d9a8f23",
   "metadata": {},
   "source": [
    " # CISB5123 Lab Assingment \n",
    " # Shopee Product Reviews\n",
    " URL : https://shopee.com.my/Pandora-Sparkling-Infinity-Heart-Collier-Necklace-i.316708917.23938349615?sp_atk=2470e10e-41a2-4231-9197-2b37cbce7583&xptdk=2470e10e-41a2-4231-9197-2b37cbce7583"
   ]
  },
  {
   "cell_type": "markdown",
   "id": "6ce405ba",
   "metadata": {},
   "source": [
    "Group members: \n",
    "- Hafizatul A'fifah binti Mohamed Fau'ad (SW01081007)\n",
    "- Nazatul Amalia binti Abu Safian (SW01081435)"
   ]
  },
  {
   "cell_type": "code",
   "execution_count": 1,
   "id": "afba7220",
   "metadata": {},
   "outputs": [],
   "source": [
    "# Import all required libraries\n",
    "\n",
    "import requests \n",
    "import csv\n",
    "import re\n",
    "from datetime import datetime # To manipulate dates & times"
   ]
  },
  {
   "cell_type": "code",
   "execution_count": 2,
   "id": "27eca956",
   "metadata": {},
   "outputs": [],
   "source": [
    "# Product URL\n",
    "\n",
    "url = \"https://shopee.com.my/Pandora-Sparkling-Infinity-Heart-Collier-Necklace-i.316708917.23938349615?sp_atk=30d2889a-381d-41be-aa0d-5e255e62ebd5&xptdk=30d2889a-381d-41be-aa0d-5e255e62ebd5\""
   ]
  },
  {
   "cell_type": "code",
   "execution_count": 3,
   "id": "782c18d9",
   "metadata": {},
   "outputs": [],
   "source": [
    "# Used to search for specific pattern in URL\n",
    "\n",
    "r = re.search(r'i\\.(\\d+)\\.(\\d+)', url)"
   ]
  },
  {
   "cell_type": "code",
   "execution_count": 4,
   "id": "6591105f",
   "metadata": {},
   "outputs": [],
   "source": [
    "# If r == successful\n",
    "if r:\n",
    "    shop_id, item_id = r.group(1), r.group(2) # It will extract shop ID and item ID using group()\n",
    "\n",
    "# Else exit script\n",
    "else:\n",
    "    print(\"Invalid URL\") \n",
    "    exit()"
   ]
  },
  {
   "cell_type": "code",
   "execution_count": 5,
   "id": "f8f7f6cd",
   "metadata": {},
   "outputs": [],
   "source": [
    "# Initialize list to store reviews\n",
    "\n",
    "review_list = []"
   ]
  },
  {
   "cell_type": "code",
   "execution_count": 6,
   "id": "91d10b76",
   "metadata": {},
   "outputs": [],
   "source": [
    "# Initialize offset == 0 which used to paginate through the reviews as a starting point for fetching data\n",
    "\n",
    "offset = 0"
   ]
  },
  {
   "cell_type": "code",
   "execution_count": 7,
   "id": "0b9f8932",
   "metadata": {},
   "outputs": [],
   "source": [
    "# Initialize a counter to keep track of the current page being fetched\n",
    "\n",
    "page_count = 1"
   ]
  },
  {
   "cell_type": "code",
   "execution_count": 8,
   "id": "4442fb07",
   "metadata": {},
   "outputs": [],
   "source": [
    "# Loop through each page of reviews data from the Shopee API to fetch reviews for the product\n",
    "\n",
    "while True:\n",
    "    \n",
    "    # Construct URL to fetch reviews data \n",
    "    ratings_url = f'https://shopee.com.my/api/v2/item/get_ratings?filter=0&flag=1&itemid={item_id}&limit=20&offset={offset}&shopid={shop_id}&type=0'\n",
    "    # Fetch reviews data and convert to JSON format\n",
    "    data = requests.get(ratings_url).json()\n",
    "\n",
    "    # Iterate through each review in the fetched data\n",
    "    for rating in data['data']['ratings']:\n",
    "        \n",
    "        # Extract username of the reviewer\n",
    "        author_username = rating['author_username']\n",
    "\n",
    "        # Extract timestamp of the review\n",
    "        timestamp = rating['ctime']\n",
    "        # Convert timestamp into readable format\n",
    "        readable_time = datetime.fromtimestamp(timestamp).strftime('%Y-%m-%d %H:%M:%S')\n",
    "        \n",
    "        # Extract comment of the review\n",
    "        comment = rating['comment']\n",
    "\n",
    "        # Append extracted info to the review list\n",
    "        review_list.append({\n",
    "            'Author Username': author_username,\n",
    "            'Date': readable_time,\n",
    "            'Comment': comment\n",
    "        })\n",
    "\n",
    "    # If number of ratings fetched < 20 or total page count > 5\n",
    "    if len(data['data']['ratings']) < 20 or page_count >= 5:\n",
    "        break # Exit loop\n",
    "\n",
    "    # Increase page count for iteration\n",
    "    page_count += 1\n",
    "\n",
    "    # Increase offset by 20 to fetch the next set of ratings\n",
    "    offset += 20"
   ]
  },
  {
   "cell_type": "code",
   "execution_count": 9,
   "id": "e6a141ce",
   "metadata": {},
   "outputs": [
    {
     "name": "stdout",
     "output_type": "stream",
     "text": [
      "All reviews have been saved to shopee.csv\n"
     ]
    }
   ],
   "source": [
    "# Save the reviews to a CSV file\n",
    "\n",
    "with open('Shopee_Reviews.csv', 'w', encoding='utf-8', newline='') as csvfile:\n",
    "    \n",
    "    # Define fieldnames for the file\n",
    "    fieldnames = ['Author Username', 'Date', 'Comment']\n",
    "    writer = csv.DictWriter(csvfile, fieldnames=fieldnames)\n",
    "\n",
    "    # Write header row \n",
    "    writer.writeheader()\n",
    "\n",
    "    # Iterate each review in the review list\n",
    "    for review in review_list:\n",
    "        # Write review as a row\n",
    "        writer.writerow(review)\n",
    "\n",
    "# Print message if all reviews have been saved\n",
    "print(\"All reviews have been saved to shopee.csv\")"
   ]
  }
 ],
 "metadata": {
  "kernelspec": {
   "display_name": "Python 3 (ipykernel)",
   "language": "python",
   "name": "python3"
  },
  "language_info": {
   "codemirror_mode": {
    "name": "ipython",
    "version": 3
   },
   "file_extension": ".py",
   "mimetype": "text/x-python",
   "name": "python",
   "nbconvert_exporter": "python",
   "pygments_lexer": "ipython3",
   "version": "3.11.5"
  }
 },
 "nbformat": 4,
 "nbformat_minor": 5
}
